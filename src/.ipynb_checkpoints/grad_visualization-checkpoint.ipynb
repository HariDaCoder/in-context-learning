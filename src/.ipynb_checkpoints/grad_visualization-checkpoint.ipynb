{
 "cells": [
  {
   "cell_type": "code",
   "execution_count": 1,
   "id": "3b6e70d3",
   "metadata": {},
   "outputs": [],
   "source": [
    "from collections import OrderedDict\n",
    "import re\n",
    "import os\n",
    "\n",
    "import matplotlib.pyplot as plt\n",
    "import torch\n",
    "import seaborn as sns\n",
    "from tqdm.notebook import tqdm\n",
    "import pandas as pd\n",
    "\n",
    "from eval_utils import get_run_metrics, aggregate_metrics\n",
    "from utils import get_model_from_run\n",
    "\n",
    "from samplers import get_data_sampler, sample_transformation\n",
    "from tasks import get_task_sampler\n",
    "\n",
    "import math\n",
    "from function_vis_utils import gen_vis_data, gen_x_test_grads, gen_x_test_grads_fixed_prefix, eval_scaled_x_test, eval_grads\n",
    "\n",
    "# %matplotlib notebook\n",
    "sns.set_theme('notebook', 'darkgrid')\n",
    "palette = sns.color_palette('colorblind')\n",
    "\n",
    "# run_dir = \"/juice2/u/tsipras/context-runs/\"\n",
    "run_dir = \"/juice2/u/nlp/data/tsipras/context-runs\""
   ]
  },
  {
   "cell_type": "code",
   "execution_count": 2,
   "id": "55e82476",
   "metadata": {},
   "outputs": [],
   "source": [
    "# RUN_NAME = \"linear_regression_20_skinny\"\n",
    "\n",
    "\n",
    "# row = df[(df[\"run_name\"] == RUN_NAME)]\n",
    "# run_path = os.path.join(run_dir, row.iloc[0].task, row.iloc[0].run_id)\n",
    "#lin_reg_20_8 head\n",
    "#run_path = run_dir + \"/linear_regression/a96a469b-7bb6-44b7-8cbf-11da265b3f43\" transformer std\n",
    "#run_path = run_dir + \"/linear_regression/221eceda-684b-43c4-a3a1-315f9d6f1b3a\" # lstm wide\n",
    "run_path = run_dir + \"/linear_regression/38fed3c5-1a88-46b3-ae74-f1eecc4dcfe0\" # lstm deep\n",
    "\n",
    "#lin_reg_20_short\n",
    "# run_path = \"/juice2/u/tsipras/context-runs/linear_regression/cf15eb12-192a-494e-a16a-0649e6f77646\"\n",
    "\n",
    "#lin_reg_20_xs\n",
    "# run_path = \"/juice2/u/tsipras/context-runs/linear_regression/024da77a-4abd-4f75-ab53-dd18b3fc6c72\"\n",
    "\n",
    "model, conf = get_model_from_run(run_path, only_conf=False)\n",
    "\n",
    "n_dims = conf.model.n_dims\n",
    "task_name = conf.training.task\n",
    "sampler_name = conf.training.data\n",
    "\n",
    "task_sampler = get_task_sampler(task_name, n_dims, batch_size = 1)\n",
    "sampler = get_data_sampler(sampler_name,n_dims)\n",
    "\n",
    "n_points = 2*n_dims + 1"
   ]
  },
  {
   "cell_type": "code",
   "execution_count": 3,
   "id": "860188b5",
   "metadata": {},
   "outputs": [],
   "source": [
    "alpha_ci = 0.5"
   ]
  },
  {
   "cell_type": "code",
   "execution_count": 4,
   "id": "bfda9dba",
   "metadata": {},
   "outputs": [],
   "source": [
    "task_sampler = get_task_sampler(task_name, n_dims, batch_size = 1)\n",
    "num_runs = 40\n",
    "b_size = 64\n",
    "\n",
    "model.cuda()\n",
    "grad_metrics = eval_grads(model, task_sampler, sampler, n_points, num_runs, b_size)\n",
    "\n",
    "inner_prod_grad_true_agg = aggregate_metrics(grad_metrics[0])\n",
    "inner_prod_grad_projected_agg = aggregate_metrics(grad_metrics[1])\n",
    "inner_prod_grad_grad_agg = aggregate_metrics(grad_metrics[2])\n",
    "\n",
    "#metrics is a tuple\n",
    "#metrics[0] is a tensor of size num_runs X n_points containing average inner products between grad and true w\n",
    "#metrics[1] is a tensor of size num_runs X n_points containing average inner products between grad and grad\n"
   ]
  },
  {
   "cell_type": "code",
   "execution_count": 5,
   "id": "90ab5eac",
   "metadata": {},
   "outputs": [
    {
     "data": {
      "image/png": "[encoded data removed]",
      "text/plain": [
       "<Figure size 241.2x241.2 with 1 Axes>"
      ]
     },
     "metadata": {
      "needs_background": "light"
     },
     "output_type": "display_data"
    }
   ],
   "source": [
    "plt.plot(\n",
    "    torch.arange(1, n_points), \n",
    "    inner_prod_grad_true_agg['mean'][1:], \n",
    "    label = 'gradient and true w',\n",
    "    lw=3,\n",
    ")\n",
    "plt.fill_between(\n",
    "    torch.arange(1, n_points),\n",
    "    inner_prod_grad_true_agg['bootstrap_low'][1:],\n",
    "    inner_prod_grad_true_agg['bootstrap_high'][1:],\n",
    "    alpha = alpha_ci,\n",
    ")\n",
    "\n",
    "plt.plot(\n",
    "    torch.arange(1, n_points),\n",
    "    inner_prod_grad_projected_agg['mean'][1:], \n",
    "    label = 'gradient and projected w',\n",
    "    lw=3,\n",
    ")\n",
    "plt.fill_between(\n",
    "    torch.arange(1, n_points),\n",
    "    inner_prod_grad_projected_agg['bootstrap_low'][1:],\n",
    "    inner_prod_grad_projected_agg['bootstrap_high'][1:],\n",
    "    alpha = alpha_ci\n",
    ")\n",
    "\n",
    "# plt.plot(inner_prod_grad_grad_agg['mean'], label = 'b/w grad and true w')\n",
    "# plt.fill_between(torch.arange(n_points),inner_prod_grad_grad_agg['bootstrap_low'],inner_prod_grad_grad_agg['bootstrap_high'], alpha = alpha_ci)\n",
    "\n",
    "plt.xlabel('in-context examples')\n",
    "plt.ylabel('average inner product')\n",
    "plt.ylim(-.1, 1.1)\n",
    "legend = plt.legend()\n",
    "for line in legend.get_lines():\n",
    "    line.set_linewidth(3)\n",
    "plt.gcf().set_size_inches(3.35,3.35)\n",
    "plt.savefig(f\"figures/gradients.pdf\", bbox_inches='tight')\n",
    "plt.show()"
   ]
  },
  {
   "cell_type": "code",
   "execution_count": null,
   "id": "44bbef1d",
   "metadata": {},
   "outputs": [],
   "source": []
  }
 ],
 "metadata": {
  "kernelspec": {
   "display_name": "Python 3 (ipykernel)",
   "language": "python",
   "name": "python3"
  },
  "language_info": {
   "codemirror_mode": {
    "name": "ipython",
    "version": 3
   },
   "file_extension": ".py",
   "mimetype": "text/x-python",
   "name": "python",
   "nbconvert_exporter": "python",
   "pygments_lexer": "ipython3",
   "version": "3.8.12"
  }
 },
 "nbformat": 4,
 "nbformat_minor": 5
}
