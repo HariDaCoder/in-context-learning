{
 "cells": [
  {
   "cell_type": "code",
   "execution_count": null,
   "id": "5b799ad6",
   "metadata": {},
   "outputs": [],
   "source": [
    "import os\n",
    "\n",
    "import matplotlib.pyplot as plt\n",
    "import torch\n",
    "\n",
    "from models import GDModel, NeuralNetwork\n",
    "from tasks import get_task_sampler\n",
    "from samplers import get_data_sampler\n",
    "from utils import get_model_from_run\n",
    "\n",
    "\n",
    "run_dir = \"/juice2/u/nlp/data/tsipras/context-runs\"\n",
    "run_path = os.path.join(run_dir, \"relu_2nn_regression\", \"c6d38404-c4df-4c37-bc67-73d0bbf324bc\")\n",
    "model, conf = get_model_from_run(run_path)\n",
    "\n",
    "data_sampler = get_data_sampler(\"gaussian\", 20)\n",
    "\n",
    "task = get_task_sampler(\n",
    "    conf.training.task,\n",
    "    conf.model.n_dims,\n",
    "    64, \n",
    "    **conf.training.task_kwargs\n",
    ")()\n",
    "\n",
    "metric = task.get_metric()"
   ]
  },
  {
   "cell_type": "code",
   "execution_count": null,
   "id": "6d21b87b",
   "metadata": {},
   "outputs": [],
   "source": [
    "xs = data_sampler.sample_xs(101, 64)\n",
    "ys = task.evaluate(xs)\n",
    "\n",
    "perf = {}"
   ]
  },
  {
   "cell_type": "code",
   "execution_count": null,
   "id": "a0c57787",
   "metadata": {},
   "outputs": [],
   "source": [
    "pred = model(xs, ys)\n",
    "m = metric(pred, ys).mean(dim=0).detach()"
   ]
  },
  {
   "cell_type": "code",
   "execution_count": null,
   "id": "86ebb904",
   "metadata": {},
   "outputs": [],
   "source": [
    "inds = torch.arange(0, 101, 10)\n",
    "\n",
    "hidden = 400\n",
    "opt = \"sgd\"\n",
    "lr = 0.1\n",
    "num_steps = 400\n",
    "\n",
    "gd_model = GDModel(\n",
    "    model_class=NeuralNetwork,\n",
    "    model_class_args={\n",
    "        \"in_size\": 20,\n",
    "        \"hidden_size\": hidden,\n",
    "        \"out_size\": 1,\n",
    "    },\n",
    "    opt_alg=opt,\n",
    "    batch_size=100,\n",
    "    lr=lr,\n",
    "    num_steps=num_steps,\n",
    ")\n",
    "\n",
    "pred = gd_model(xs, ys, inds=inds)\n",
    "m_gd = metric(pred.detach().cpu(), ys[:, inds]).mean(dim=0).detach()\n",
    "perf[(hidden, opt, lr, num_steps)] = m_gd"
   ]
  },
  {
   "cell_type": "code",
   "execution_count": null,
   "id": "25ebd67b",
   "metadata": {},
   "outputs": [],
   "source": [
    "plt.plot(m)\n",
    "for k, v in perf.items():\n",
    "    plt.plot(inds, v, label=str(k))\n",
    "plt.legend()"
   ]
  },
  {
   "cell_type": "code",
   "execution_count": null,
   "id": "d9ff820d",
   "metadata": {},
   "outputs": [],
   "source": [
    "params = [\n",
    "    (100, 'adam', 0.005, 100),\n",
    "    (100, 'sgd', 0.1, 400),\n",
    "]"
   ]
  }
 ],
 "metadata": {
  "kernelspec": {
   "display_name": "Python 3 (ipykernel)",
   "language": "python",
   "name": "python3"
  },
  "language_info": {
   "codemirror_mode": {
    "name": "ipython",
    "version": 3
   },
   "file_extension": ".py",
   "mimetype": "text/x-python",
   "name": "python",
   "nbconvert_exporter": "python",
   "pygments_lexer": "ipython3",
   "version": "3.8.12"
  }
 },
 "nbformat": 4,
 "nbformat_minor": 5
}
